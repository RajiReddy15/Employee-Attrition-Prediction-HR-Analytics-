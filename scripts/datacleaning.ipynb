{
 "cells": [
  {
   "cell_type": "code",
   "execution_count": 2,
   "id": "9fe3c83d",
   "metadata": {},
   "outputs": [],
   "source": [
    "import pandas as pd\n",
    "import numpy as np\n"
   ]
  },
  {
   "cell_type": "markdown",
   "id": "1e9caa03",
   "metadata": {},
   "source": [
    "# Importing data from sqlworkbench"
   ]
  },
  {
   "cell_type": "code",
   "execution_count": 3,
   "id": "c45d7312",
   "metadata": {},
   "outputs": [
    {
     "data": {
      "text/html": [
       "<div>\n",
       "<style scoped>\n",
       "    .dataframe tbody tr th:only-of-type {\n",
       "        vertical-align: middle;\n",
       "    }\n",
       "\n",
       "    .dataframe tbody tr th {\n",
       "        vertical-align: top;\n",
       "    }\n",
       "\n",
       "    .dataframe thead th {\n",
       "        text-align: right;\n",
       "    }\n",
       "</style>\n",
       "<table border=\"1\" class=\"dataframe\">\n",
       "  <thead>\n",
       "    <tr style=\"text-align: right;\">\n",
       "      <th></th>\n",
       "      <th>Age</th>\n",
       "      <th>Attrition</th>\n",
       "      <th>BusinessTravel</th>\n",
       "      <th>Department</th>\n",
       "      <th>DistanceFromHome</th>\n",
       "      <th>EnvironmentSatisfaction</th>\n",
       "      <th>Gender</th>\n",
       "      <th>JobLevel</th>\n",
       "      <th>JobRole</th>\n",
       "      <th>JobSatisfaction</th>\n",
       "      <th>...</th>\n",
       "      <th>OverTime</th>\n",
       "      <th>PercentSalaryHike</th>\n",
       "      <th>RelationshipSatisfaction</th>\n",
       "      <th>TotalWorkingYears</th>\n",
       "      <th>TrainingTimesLastYear</th>\n",
       "      <th>WorkLifeBalance</th>\n",
       "      <th>YearsAtCompany</th>\n",
       "      <th>YearsInCurrentRole</th>\n",
       "      <th>YearsSinceLastPromotion</th>\n",
       "      <th>YearsWithCurrManager</th>\n",
       "    </tr>\n",
       "  </thead>\n",
       "  <tbody>\n",
       "    <tr>\n",
       "      <th>0</th>\n",
       "      <td>41</td>\n",
       "      <td>Yes</td>\n",
       "      <td>Travel_Rarely</td>\n",
       "      <td>Sales</td>\n",
       "      <td>1</td>\n",
       "      <td>2</td>\n",
       "      <td>Female</td>\n",
       "      <td>2</td>\n",
       "      <td>Sales Executive</td>\n",
       "      <td>4</td>\n",
       "      <td>...</td>\n",
       "      <td>Yes</td>\n",
       "      <td>11</td>\n",
       "      <td>1</td>\n",
       "      <td>8</td>\n",
       "      <td>0</td>\n",
       "      <td>1</td>\n",
       "      <td>6</td>\n",
       "      <td>4</td>\n",
       "      <td>0</td>\n",
       "      <td>5</td>\n",
       "    </tr>\n",
       "    <tr>\n",
       "      <th>1</th>\n",
       "      <td>49</td>\n",
       "      <td>No</td>\n",
       "      <td>Travel_Frequently</td>\n",
       "      <td>Research &amp; Development</td>\n",
       "      <td>8</td>\n",
       "      <td>3</td>\n",
       "      <td>Male</td>\n",
       "      <td>2</td>\n",
       "      <td>Research Scientist</td>\n",
       "      <td>2</td>\n",
       "      <td>...</td>\n",
       "      <td>No</td>\n",
       "      <td>23</td>\n",
       "      <td>4</td>\n",
       "      <td>10</td>\n",
       "      <td>3</td>\n",
       "      <td>3</td>\n",
       "      <td>10</td>\n",
       "      <td>7</td>\n",
       "      <td>1</td>\n",
       "      <td>7</td>\n",
       "    </tr>\n",
       "    <tr>\n",
       "      <th>2</th>\n",
       "      <td>37</td>\n",
       "      <td>Yes</td>\n",
       "      <td>Travel_Rarely</td>\n",
       "      <td>Research &amp; Development</td>\n",
       "      <td>2</td>\n",
       "      <td>4</td>\n",
       "      <td>Male</td>\n",
       "      <td>1</td>\n",
       "      <td>Laboratory Technician</td>\n",
       "      <td>3</td>\n",
       "      <td>...</td>\n",
       "      <td>Yes</td>\n",
       "      <td>15</td>\n",
       "      <td>2</td>\n",
       "      <td>7</td>\n",
       "      <td>3</td>\n",
       "      <td>3</td>\n",
       "      <td>0</td>\n",
       "      <td>0</td>\n",
       "      <td>0</td>\n",
       "      <td>0</td>\n",
       "    </tr>\n",
       "    <tr>\n",
       "      <th>3</th>\n",
       "      <td>33</td>\n",
       "      <td>No</td>\n",
       "      <td>Travel_Frequently</td>\n",
       "      <td>Research &amp; Development</td>\n",
       "      <td>3</td>\n",
       "      <td>4</td>\n",
       "      <td>Female</td>\n",
       "      <td>1</td>\n",
       "      <td>Research Scientist</td>\n",
       "      <td>3</td>\n",
       "      <td>...</td>\n",
       "      <td>Yes</td>\n",
       "      <td>11</td>\n",
       "      <td>3</td>\n",
       "      <td>8</td>\n",
       "      <td>3</td>\n",
       "      <td>3</td>\n",
       "      <td>8</td>\n",
       "      <td>7</td>\n",
       "      <td>3</td>\n",
       "      <td>0</td>\n",
       "    </tr>\n",
       "    <tr>\n",
       "      <th>4</th>\n",
       "      <td>27</td>\n",
       "      <td>No</td>\n",
       "      <td>Travel_Rarely</td>\n",
       "      <td>Research &amp; Development</td>\n",
       "      <td>2</td>\n",
       "      <td>1</td>\n",
       "      <td>Male</td>\n",
       "      <td>1</td>\n",
       "      <td>Laboratory Technician</td>\n",
       "      <td>2</td>\n",
       "      <td>...</td>\n",
       "      <td>No</td>\n",
       "      <td>12</td>\n",
       "      <td>4</td>\n",
       "      <td>6</td>\n",
       "      <td>3</td>\n",
       "      <td>3</td>\n",
       "      <td>2</td>\n",
       "      <td>2</td>\n",
       "      <td>2</td>\n",
       "      <td>2</td>\n",
       "    </tr>\n",
       "  </tbody>\n",
       "</table>\n",
       "<p>5 rows × 22 columns</p>\n",
       "</div>"
      ],
      "text/plain": [
       "   Age Attrition     BusinessTravel              Department  DistanceFromHome  \\\n",
       "0   41       Yes      Travel_Rarely                   Sales                 1   \n",
       "1   49        No  Travel_Frequently  Research & Development                 8   \n",
       "2   37       Yes      Travel_Rarely  Research & Development                 2   \n",
       "3   33        No  Travel_Frequently  Research & Development                 3   \n",
       "4   27        No      Travel_Rarely  Research & Development                 2   \n",
       "\n",
       "   EnvironmentSatisfaction  Gender  JobLevel                JobRole  \\\n",
       "0                        2  Female         2        Sales Executive   \n",
       "1                        3    Male         2     Research Scientist   \n",
       "2                        4    Male         1  Laboratory Technician   \n",
       "3                        4  Female         1     Research Scientist   \n",
       "4                        1    Male         1  Laboratory Technician   \n",
       "\n",
       "   JobSatisfaction  ...  OverTime  PercentSalaryHike RelationshipSatisfaction  \\\n",
       "0                4  ...       Yes                 11                        1   \n",
       "1                2  ...        No                 23                        4   \n",
       "2                3  ...       Yes                 15                        2   \n",
       "3                3  ...       Yes                 11                        3   \n",
       "4                2  ...        No                 12                        4   \n",
       "\n",
       "   TotalWorkingYears  TrainingTimesLastYear  WorkLifeBalance  YearsAtCompany  \\\n",
       "0                  8                      0                1               6   \n",
       "1                 10                      3                3              10   \n",
       "2                  7                      3                3               0   \n",
       "3                  8                      3                3               8   \n",
       "4                  6                      3                3               2   \n",
       "\n",
       "   YearsInCurrentRole  YearsSinceLastPromotion  YearsWithCurrManager  \n",
       "0                   4                        0                     5  \n",
       "1                   7                        1                     7  \n",
       "2                   0                        0                     0  \n",
       "3                   7                        3                     0  \n",
       "4                   2                        2                     2  \n",
       "\n",
       "[5 rows x 22 columns]"
      ]
     },
     "execution_count": 3,
     "metadata": {},
     "output_type": "execute_result"
    }
   ],
   "source": [
    "from sqlalchemy import create_engine\n",
    "# MySQL connection credentials\n",
    "username = \"root\"\n",
    "password = \"root123\"\n",
    "host = \"localhost\"\n",
    "port = 3306\n",
    "database = \"hr(attrition)\"  # your database name\n",
    "\n",
    "# Correct SQLAlchemy engine (no backticks in URL)\n",
    "engine = create_engine(f\"mysql+pymysql://{username}:{password}@{host}:{port}/{database}\")\n",
    "# retriving data \n",
    "df = pd.read_sql(\"SELECT * FROM employeeattrition_main\", con=engine)\n",
    "df.head()"
   ]
  },
  {
   "cell_type": "code",
   "execution_count": 4,
   "id": "7fcc4fb3",
   "metadata": {},
   "outputs": [
    {
     "name": "stdout",
     "output_type": "stream",
     "text": [
      "<class 'pandas.core.frame.DataFrame'>\n",
      "RangeIndex: 1470 entries, 0 to 1469\n",
      "Data columns (total 22 columns):\n",
      " #   Column                    Non-Null Count  Dtype \n",
      "---  ------                    --------------  ----- \n",
      " 0   Age                       1470 non-null   int64 \n",
      " 1   Attrition                 1470 non-null   object\n",
      " 2   BusinessTravel            1470 non-null   object\n",
      " 3   Department                1470 non-null   object\n",
      " 4   DistanceFromHome          1470 non-null   int64 \n",
      " 5   EnvironmentSatisfaction   1470 non-null   int64 \n",
      " 6   Gender                    1470 non-null   object\n",
      " 7   JobLevel                  1470 non-null   int64 \n",
      " 8   JobRole                   1470 non-null   object\n",
      " 9   JobSatisfaction           1470 non-null   int64 \n",
      " 10  MonthlyIncome             1470 non-null   int64 \n",
      " 11  NumCompaniesWorked        1470 non-null   int64 \n",
      " 12  OverTime                  1470 non-null   object\n",
      " 13  PercentSalaryHike         1470 non-null   int64 \n",
      " 14  RelationshipSatisfaction  1470 non-null   int64 \n",
      " 15  TotalWorkingYears         1470 non-null   int64 \n",
      " 16  TrainingTimesLastYear     1470 non-null   int64 \n",
      " 17  WorkLifeBalance           1470 non-null   int64 \n",
      " 18  YearsAtCompany            1470 non-null   int64 \n",
      " 19  YearsInCurrentRole        1470 non-null   int64 \n",
      " 20  YearsSinceLastPromotion   1470 non-null   int64 \n",
      " 21  YearsWithCurrManager      1470 non-null   int64 \n",
      "dtypes: int64(16), object(6)\n",
      "memory usage: 252.8+ KB\n"
     ]
    }
   ],
   "source": [
    "# Understanding the data\n",
    "df.info()\n"
   ]
  },
  {
   "cell_type": "code",
   "execution_count": 5,
   "id": "927b61d6",
   "metadata": {},
   "outputs": [
    {
     "data": {
      "text/html": [
       "<div>\n",
       "<style scoped>\n",
       "    .dataframe tbody tr th:only-of-type {\n",
       "        vertical-align: middle;\n",
       "    }\n",
       "\n",
       "    .dataframe tbody tr th {\n",
       "        vertical-align: top;\n",
       "    }\n",
       "\n",
       "    .dataframe thead th {\n",
       "        text-align: right;\n",
       "    }\n",
       "</style>\n",
       "<table border=\"1\" class=\"dataframe\">\n",
       "  <thead>\n",
       "    <tr style=\"text-align: right;\">\n",
       "      <th></th>\n",
       "      <th>Age</th>\n",
       "      <th>DistanceFromHome</th>\n",
       "      <th>EnvironmentSatisfaction</th>\n",
       "      <th>JobLevel</th>\n",
       "      <th>JobSatisfaction</th>\n",
       "      <th>MonthlyIncome</th>\n",
       "      <th>NumCompaniesWorked</th>\n",
       "      <th>PercentSalaryHike</th>\n",
       "      <th>RelationshipSatisfaction</th>\n",
       "      <th>TotalWorkingYears</th>\n",
       "      <th>TrainingTimesLastYear</th>\n",
       "      <th>WorkLifeBalance</th>\n",
       "      <th>YearsAtCompany</th>\n",
       "      <th>YearsInCurrentRole</th>\n",
       "      <th>YearsSinceLastPromotion</th>\n",
       "      <th>YearsWithCurrManager</th>\n",
       "    </tr>\n",
       "  </thead>\n",
       "  <tbody>\n",
       "    <tr>\n",
       "      <th>count</th>\n",
       "      <td>1470.000000</td>\n",
       "      <td>1470.000000</td>\n",
       "      <td>1470.000000</td>\n",
       "      <td>1470.000000</td>\n",
       "      <td>1470.000000</td>\n",
       "      <td>1470.000000</td>\n",
       "      <td>1470.000000</td>\n",
       "      <td>1470.000000</td>\n",
       "      <td>1470.000000</td>\n",
       "      <td>1470.000000</td>\n",
       "      <td>1470.000000</td>\n",
       "      <td>1470.000000</td>\n",
       "      <td>1470.000000</td>\n",
       "      <td>1470.000000</td>\n",
       "      <td>1470.000000</td>\n",
       "      <td>1470.000000</td>\n",
       "    </tr>\n",
       "    <tr>\n",
       "      <th>mean</th>\n",
       "      <td>36.923810</td>\n",
       "      <td>9.192517</td>\n",
       "      <td>2.721769</td>\n",
       "      <td>2.063946</td>\n",
       "      <td>2.728571</td>\n",
       "      <td>6502.931293</td>\n",
       "      <td>2.693197</td>\n",
       "      <td>15.209524</td>\n",
       "      <td>2.712245</td>\n",
       "      <td>11.279592</td>\n",
       "      <td>2.799320</td>\n",
       "      <td>2.761224</td>\n",
       "      <td>7.008163</td>\n",
       "      <td>4.229252</td>\n",
       "      <td>2.187755</td>\n",
       "      <td>4.123129</td>\n",
       "    </tr>\n",
       "    <tr>\n",
       "      <th>std</th>\n",
       "      <td>9.135373</td>\n",
       "      <td>8.106864</td>\n",
       "      <td>1.093082</td>\n",
       "      <td>1.106940</td>\n",
       "      <td>1.102846</td>\n",
       "      <td>4707.956783</td>\n",
       "      <td>2.498009</td>\n",
       "      <td>3.659938</td>\n",
       "      <td>1.081209</td>\n",
       "      <td>7.780782</td>\n",
       "      <td>1.289271</td>\n",
       "      <td>0.706476</td>\n",
       "      <td>6.126525</td>\n",
       "      <td>3.623137</td>\n",
       "      <td>3.222430</td>\n",
       "      <td>3.568136</td>\n",
       "    </tr>\n",
       "    <tr>\n",
       "      <th>min</th>\n",
       "      <td>18.000000</td>\n",
       "      <td>1.000000</td>\n",
       "      <td>1.000000</td>\n",
       "      <td>1.000000</td>\n",
       "      <td>1.000000</td>\n",
       "      <td>1009.000000</td>\n",
       "      <td>0.000000</td>\n",
       "      <td>11.000000</td>\n",
       "      <td>1.000000</td>\n",
       "      <td>0.000000</td>\n",
       "      <td>0.000000</td>\n",
       "      <td>1.000000</td>\n",
       "      <td>0.000000</td>\n",
       "      <td>0.000000</td>\n",
       "      <td>0.000000</td>\n",
       "      <td>0.000000</td>\n",
       "    </tr>\n",
       "    <tr>\n",
       "      <th>25%</th>\n",
       "      <td>30.000000</td>\n",
       "      <td>2.000000</td>\n",
       "      <td>2.000000</td>\n",
       "      <td>1.000000</td>\n",
       "      <td>2.000000</td>\n",
       "      <td>2911.000000</td>\n",
       "      <td>1.000000</td>\n",
       "      <td>12.000000</td>\n",
       "      <td>2.000000</td>\n",
       "      <td>6.000000</td>\n",
       "      <td>2.000000</td>\n",
       "      <td>2.000000</td>\n",
       "      <td>3.000000</td>\n",
       "      <td>2.000000</td>\n",
       "      <td>0.000000</td>\n",
       "      <td>2.000000</td>\n",
       "    </tr>\n",
       "    <tr>\n",
       "      <th>50%</th>\n",
       "      <td>36.000000</td>\n",
       "      <td>7.000000</td>\n",
       "      <td>3.000000</td>\n",
       "      <td>2.000000</td>\n",
       "      <td>3.000000</td>\n",
       "      <td>4919.000000</td>\n",
       "      <td>2.000000</td>\n",
       "      <td>14.000000</td>\n",
       "      <td>3.000000</td>\n",
       "      <td>10.000000</td>\n",
       "      <td>3.000000</td>\n",
       "      <td>3.000000</td>\n",
       "      <td>5.000000</td>\n",
       "      <td>3.000000</td>\n",
       "      <td>1.000000</td>\n",
       "      <td>3.000000</td>\n",
       "    </tr>\n",
       "    <tr>\n",
       "      <th>75%</th>\n",
       "      <td>43.000000</td>\n",
       "      <td>14.000000</td>\n",
       "      <td>4.000000</td>\n",
       "      <td>3.000000</td>\n",
       "      <td>4.000000</td>\n",
       "      <td>8379.000000</td>\n",
       "      <td>4.000000</td>\n",
       "      <td>18.000000</td>\n",
       "      <td>4.000000</td>\n",
       "      <td>15.000000</td>\n",
       "      <td>3.000000</td>\n",
       "      <td>3.000000</td>\n",
       "      <td>9.000000</td>\n",
       "      <td>7.000000</td>\n",
       "      <td>3.000000</td>\n",
       "      <td>7.000000</td>\n",
       "    </tr>\n",
       "    <tr>\n",
       "      <th>max</th>\n",
       "      <td>60.000000</td>\n",
       "      <td>29.000000</td>\n",
       "      <td>4.000000</td>\n",
       "      <td>5.000000</td>\n",
       "      <td>4.000000</td>\n",
       "      <td>19999.000000</td>\n",
       "      <td>9.000000</td>\n",
       "      <td>25.000000</td>\n",
       "      <td>4.000000</td>\n",
       "      <td>40.000000</td>\n",
       "      <td>6.000000</td>\n",
       "      <td>4.000000</td>\n",
       "      <td>40.000000</td>\n",
       "      <td>18.000000</td>\n",
       "      <td>15.000000</td>\n",
       "      <td>17.000000</td>\n",
       "    </tr>\n",
       "  </tbody>\n",
       "</table>\n",
       "</div>"
      ],
      "text/plain": [
       "               Age  DistanceFromHome  EnvironmentSatisfaction     JobLevel  \\\n",
       "count  1470.000000       1470.000000              1470.000000  1470.000000   \n",
       "mean     36.923810          9.192517                 2.721769     2.063946   \n",
       "std       9.135373          8.106864                 1.093082     1.106940   \n",
       "min      18.000000          1.000000                 1.000000     1.000000   \n",
       "25%      30.000000          2.000000                 2.000000     1.000000   \n",
       "50%      36.000000          7.000000                 3.000000     2.000000   \n",
       "75%      43.000000         14.000000                 4.000000     3.000000   \n",
       "max      60.000000         29.000000                 4.000000     5.000000   \n",
       "\n",
       "       JobSatisfaction  MonthlyIncome  NumCompaniesWorked  PercentSalaryHike  \\\n",
       "count      1470.000000    1470.000000         1470.000000        1470.000000   \n",
       "mean          2.728571    6502.931293            2.693197          15.209524   \n",
       "std           1.102846    4707.956783            2.498009           3.659938   \n",
       "min           1.000000    1009.000000            0.000000          11.000000   \n",
       "25%           2.000000    2911.000000            1.000000          12.000000   \n",
       "50%           3.000000    4919.000000            2.000000          14.000000   \n",
       "75%           4.000000    8379.000000            4.000000          18.000000   \n",
       "max           4.000000   19999.000000            9.000000          25.000000   \n",
       "\n",
       "       RelationshipSatisfaction  TotalWorkingYears  TrainingTimesLastYear  \\\n",
       "count               1470.000000        1470.000000            1470.000000   \n",
       "mean                   2.712245          11.279592               2.799320   \n",
       "std                    1.081209           7.780782               1.289271   \n",
       "min                    1.000000           0.000000               0.000000   \n",
       "25%                    2.000000           6.000000               2.000000   \n",
       "50%                    3.000000          10.000000               3.000000   \n",
       "75%                    4.000000          15.000000               3.000000   \n",
       "max                    4.000000          40.000000               6.000000   \n",
       "\n",
       "       WorkLifeBalance  YearsAtCompany  YearsInCurrentRole  \\\n",
       "count      1470.000000     1470.000000         1470.000000   \n",
       "mean          2.761224        7.008163            4.229252   \n",
       "std           0.706476        6.126525            3.623137   \n",
       "min           1.000000        0.000000            0.000000   \n",
       "25%           2.000000        3.000000            2.000000   \n",
       "50%           3.000000        5.000000            3.000000   \n",
       "75%           3.000000        9.000000            7.000000   \n",
       "max           4.000000       40.000000           18.000000   \n",
       "\n",
       "       YearsSinceLastPromotion  YearsWithCurrManager  \n",
       "count              1470.000000           1470.000000  \n",
       "mean                  2.187755              4.123129  \n",
       "std                   3.222430              3.568136  \n",
       "min                   0.000000              0.000000  \n",
       "25%                   0.000000              2.000000  \n",
       "50%                   1.000000              3.000000  \n",
       "75%                   3.000000              7.000000  \n",
       "max                  15.000000             17.000000  "
      ]
     },
     "execution_count": 5,
     "metadata": {},
     "output_type": "execute_result"
    }
   ],
   "source": [
    "df.describe()"
   ]
  },
  {
   "cell_type": "code",
   "execution_count": 6,
   "id": "2d8f55ca",
   "metadata": {},
   "outputs": [
    {
     "data": {
      "text/html": [
       "<div>\n",
       "<style scoped>\n",
       "    .dataframe tbody tr th:only-of-type {\n",
       "        vertical-align: middle;\n",
       "    }\n",
       "\n",
       "    .dataframe tbody tr th {\n",
       "        vertical-align: top;\n",
       "    }\n",
       "\n",
       "    .dataframe thead th {\n",
       "        text-align: right;\n",
       "    }\n",
       "</style>\n",
       "<table border=\"1\" class=\"dataframe\">\n",
       "  <thead>\n",
       "    <tr style=\"text-align: right;\">\n",
       "      <th></th>\n",
       "      <th>Attrition</th>\n",
       "      <th>BusinessTravel</th>\n",
       "      <th>Department</th>\n",
       "      <th>Gender</th>\n",
       "      <th>JobRole</th>\n",
       "      <th>OverTime</th>\n",
       "    </tr>\n",
       "  </thead>\n",
       "  <tbody>\n",
       "    <tr>\n",
       "      <th>count</th>\n",
       "      <td>1470</td>\n",
       "      <td>1470</td>\n",
       "      <td>1470</td>\n",
       "      <td>1470</td>\n",
       "      <td>1470</td>\n",
       "      <td>1470</td>\n",
       "    </tr>\n",
       "    <tr>\n",
       "      <th>unique</th>\n",
       "      <td>2</td>\n",
       "      <td>3</td>\n",
       "      <td>3</td>\n",
       "      <td>2</td>\n",
       "      <td>9</td>\n",
       "      <td>2</td>\n",
       "    </tr>\n",
       "    <tr>\n",
       "      <th>top</th>\n",
       "      <td>No</td>\n",
       "      <td>Travel_Rarely</td>\n",
       "      <td>Research &amp; Development</td>\n",
       "      <td>Male</td>\n",
       "      <td>Sales Executive</td>\n",
       "      <td>No</td>\n",
       "    </tr>\n",
       "    <tr>\n",
       "      <th>freq</th>\n",
       "      <td>1233</td>\n",
       "      <td>1043</td>\n",
       "      <td>961</td>\n",
       "      <td>882</td>\n",
       "      <td>326</td>\n",
       "      <td>1054</td>\n",
       "    </tr>\n",
       "  </tbody>\n",
       "</table>\n",
       "</div>"
      ],
      "text/plain": [
       "       Attrition BusinessTravel              Department Gender  \\\n",
       "count       1470           1470                    1470   1470   \n",
       "unique         2              3                       3      2   \n",
       "top           No  Travel_Rarely  Research & Development   Male   \n",
       "freq        1233           1043                     961    882   \n",
       "\n",
       "                JobRole OverTime  \n",
       "count              1470     1470  \n",
       "unique                9        2  \n",
       "top     Sales Executive       No  \n",
       "freq                326     1054  "
      ]
     },
     "execution_count": 6,
     "metadata": {},
     "output_type": "execute_result"
    }
   ],
   "source": [
    "df.describe(include='object')"
   ]
  },
  {
   "cell_type": "markdown",
   "id": "2a8cb5e2",
   "metadata": {},
   "source": [
    "# Handiling missing values"
   ]
  },
  {
   "cell_type": "code",
   "execution_count": 7,
   "id": "9eddbeb8",
   "metadata": {},
   "outputs": [
    {
     "data": {
      "text/html": [
       "<div>\n",
       "<style scoped>\n",
       "    .dataframe tbody tr th:only-of-type {\n",
       "        vertical-align: middle;\n",
       "    }\n",
       "\n",
       "    .dataframe tbody tr th {\n",
       "        vertical-align: top;\n",
       "    }\n",
       "\n",
       "    .dataframe thead th {\n",
       "        text-align: right;\n",
       "    }\n",
       "</style>\n",
       "<table border=\"1\" class=\"dataframe\">\n",
       "  <thead>\n",
       "    <tr style=\"text-align: right;\">\n",
       "      <th></th>\n",
       "      <th>Age</th>\n",
       "      <th>Attrition</th>\n",
       "      <th>BusinessTravel</th>\n",
       "      <th>Department</th>\n",
       "      <th>DistanceFromHome</th>\n",
       "      <th>EnvironmentSatisfaction</th>\n",
       "      <th>Gender</th>\n",
       "      <th>JobLevel</th>\n",
       "      <th>JobRole</th>\n",
       "      <th>JobSatisfaction</th>\n",
       "      <th>...</th>\n",
       "      <th>OverTime</th>\n",
       "      <th>PercentSalaryHike</th>\n",
       "      <th>RelationshipSatisfaction</th>\n",
       "      <th>TotalWorkingYears</th>\n",
       "      <th>TrainingTimesLastYear</th>\n",
       "      <th>WorkLifeBalance</th>\n",
       "      <th>YearsAtCompany</th>\n",
       "      <th>YearsInCurrentRole</th>\n",
       "      <th>YearsSinceLastPromotion</th>\n",
       "      <th>YearsWithCurrManager</th>\n",
       "    </tr>\n",
       "  </thead>\n",
       "  <tbody>\n",
       "    <tr>\n",
       "      <th>0</th>\n",
       "      <td>False</td>\n",
       "      <td>False</td>\n",
       "      <td>False</td>\n",
       "      <td>False</td>\n",
       "      <td>False</td>\n",
       "      <td>False</td>\n",
       "      <td>False</td>\n",
       "      <td>False</td>\n",
       "      <td>False</td>\n",
       "      <td>False</td>\n",
       "      <td>...</td>\n",
       "      <td>False</td>\n",
       "      <td>False</td>\n",
       "      <td>False</td>\n",
       "      <td>False</td>\n",
       "      <td>False</td>\n",
       "      <td>False</td>\n",
       "      <td>False</td>\n",
       "      <td>False</td>\n",
       "      <td>False</td>\n",
       "      <td>False</td>\n",
       "    </tr>\n",
       "    <tr>\n",
       "      <th>1</th>\n",
       "      <td>False</td>\n",
       "      <td>False</td>\n",
       "      <td>False</td>\n",
       "      <td>False</td>\n",
       "      <td>False</td>\n",
       "      <td>False</td>\n",
       "      <td>False</td>\n",
       "      <td>False</td>\n",
       "      <td>False</td>\n",
       "      <td>False</td>\n",
       "      <td>...</td>\n",
       "      <td>False</td>\n",
       "      <td>False</td>\n",
       "      <td>False</td>\n",
       "      <td>False</td>\n",
       "      <td>False</td>\n",
       "      <td>False</td>\n",
       "      <td>False</td>\n",
       "      <td>False</td>\n",
       "      <td>False</td>\n",
       "      <td>False</td>\n",
       "    </tr>\n",
       "    <tr>\n",
       "      <th>2</th>\n",
       "      <td>False</td>\n",
       "      <td>False</td>\n",
       "      <td>False</td>\n",
       "      <td>False</td>\n",
       "      <td>False</td>\n",
       "      <td>False</td>\n",
       "      <td>False</td>\n",
       "      <td>False</td>\n",
       "      <td>False</td>\n",
       "      <td>False</td>\n",
       "      <td>...</td>\n",
       "      <td>False</td>\n",
       "      <td>False</td>\n",
       "      <td>False</td>\n",
       "      <td>False</td>\n",
       "      <td>False</td>\n",
       "      <td>False</td>\n",
       "      <td>False</td>\n",
       "      <td>False</td>\n",
       "      <td>False</td>\n",
       "      <td>False</td>\n",
       "    </tr>\n",
       "    <tr>\n",
       "      <th>3</th>\n",
       "      <td>False</td>\n",
       "      <td>False</td>\n",
       "      <td>False</td>\n",
       "      <td>False</td>\n",
       "      <td>False</td>\n",
       "      <td>False</td>\n",
       "      <td>False</td>\n",
       "      <td>False</td>\n",
       "      <td>False</td>\n",
       "      <td>False</td>\n",
       "      <td>...</td>\n",
       "      <td>False</td>\n",
       "      <td>False</td>\n",
       "      <td>False</td>\n",
       "      <td>False</td>\n",
       "      <td>False</td>\n",
       "      <td>False</td>\n",
       "      <td>False</td>\n",
       "      <td>False</td>\n",
       "      <td>False</td>\n",
       "      <td>False</td>\n",
       "    </tr>\n",
       "    <tr>\n",
       "      <th>4</th>\n",
       "      <td>False</td>\n",
       "      <td>False</td>\n",
       "      <td>False</td>\n",
       "      <td>False</td>\n",
       "      <td>False</td>\n",
       "      <td>False</td>\n",
       "      <td>False</td>\n",
       "      <td>False</td>\n",
       "      <td>False</td>\n",
       "      <td>False</td>\n",
       "      <td>...</td>\n",
       "      <td>False</td>\n",
       "      <td>False</td>\n",
       "      <td>False</td>\n",
       "      <td>False</td>\n",
       "      <td>False</td>\n",
       "      <td>False</td>\n",
       "      <td>False</td>\n",
       "      <td>False</td>\n",
       "      <td>False</td>\n",
       "      <td>False</td>\n",
       "    </tr>\n",
       "    <tr>\n",
       "      <th>...</th>\n",
       "      <td>...</td>\n",
       "      <td>...</td>\n",
       "      <td>...</td>\n",
       "      <td>...</td>\n",
       "      <td>...</td>\n",
       "      <td>...</td>\n",
       "      <td>...</td>\n",
       "      <td>...</td>\n",
       "      <td>...</td>\n",
       "      <td>...</td>\n",
       "      <td>...</td>\n",
       "      <td>...</td>\n",
       "      <td>...</td>\n",
       "      <td>...</td>\n",
       "      <td>...</td>\n",
       "      <td>...</td>\n",
       "      <td>...</td>\n",
       "      <td>...</td>\n",
       "      <td>...</td>\n",
       "      <td>...</td>\n",
       "      <td>...</td>\n",
       "    </tr>\n",
       "    <tr>\n",
       "      <th>1465</th>\n",
       "      <td>False</td>\n",
       "      <td>False</td>\n",
       "      <td>False</td>\n",
       "      <td>False</td>\n",
       "      <td>False</td>\n",
       "      <td>False</td>\n",
       "      <td>False</td>\n",
       "      <td>False</td>\n",
       "      <td>False</td>\n",
       "      <td>False</td>\n",
       "      <td>...</td>\n",
       "      <td>False</td>\n",
       "      <td>False</td>\n",
       "      <td>False</td>\n",
       "      <td>False</td>\n",
       "      <td>False</td>\n",
       "      <td>False</td>\n",
       "      <td>False</td>\n",
       "      <td>False</td>\n",
       "      <td>False</td>\n",
       "      <td>False</td>\n",
       "    </tr>\n",
       "    <tr>\n",
       "      <th>1466</th>\n",
       "      <td>False</td>\n",
       "      <td>False</td>\n",
       "      <td>False</td>\n",
       "      <td>False</td>\n",
       "      <td>False</td>\n",
       "      <td>False</td>\n",
       "      <td>False</td>\n",
       "      <td>False</td>\n",
       "      <td>False</td>\n",
       "      <td>False</td>\n",
       "      <td>...</td>\n",
       "      <td>False</td>\n",
       "      <td>False</td>\n",
       "      <td>False</td>\n",
       "      <td>False</td>\n",
       "      <td>False</td>\n",
       "      <td>False</td>\n",
       "      <td>False</td>\n",
       "      <td>False</td>\n",
       "      <td>False</td>\n",
       "      <td>False</td>\n",
       "    </tr>\n",
       "    <tr>\n",
       "      <th>1467</th>\n",
       "      <td>False</td>\n",
       "      <td>False</td>\n",
       "      <td>False</td>\n",
       "      <td>False</td>\n",
       "      <td>False</td>\n",
       "      <td>False</td>\n",
       "      <td>False</td>\n",
       "      <td>False</td>\n",
       "      <td>False</td>\n",
       "      <td>False</td>\n",
       "      <td>...</td>\n",
       "      <td>False</td>\n",
       "      <td>False</td>\n",
       "      <td>False</td>\n",
       "      <td>False</td>\n",
       "      <td>False</td>\n",
       "      <td>False</td>\n",
       "      <td>False</td>\n",
       "      <td>False</td>\n",
       "      <td>False</td>\n",
       "      <td>False</td>\n",
       "    </tr>\n",
       "    <tr>\n",
       "      <th>1468</th>\n",
       "      <td>False</td>\n",
       "      <td>False</td>\n",
       "      <td>False</td>\n",
       "      <td>False</td>\n",
       "      <td>False</td>\n",
       "      <td>False</td>\n",
       "      <td>False</td>\n",
       "      <td>False</td>\n",
       "      <td>False</td>\n",
       "      <td>False</td>\n",
       "      <td>...</td>\n",
       "      <td>False</td>\n",
       "      <td>False</td>\n",
       "      <td>False</td>\n",
       "      <td>False</td>\n",
       "      <td>False</td>\n",
       "      <td>False</td>\n",
       "      <td>False</td>\n",
       "      <td>False</td>\n",
       "      <td>False</td>\n",
       "      <td>False</td>\n",
       "    </tr>\n",
       "    <tr>\n",
       "      <th>1469</th>\n",
       "      <td>False</td>\n",
       "      <td>False</td>\n",
       "      <td>False</td>\n",
       "      <td>False</td>\n",
       "      <td>False</td>\n",
       "      <td>False</td>\n",
       "      <td>False</td>\n",
       "      <td>False</td>\n",
       "      <td>False</td>\n",
       "      <td>False</td>\n",
       "      <td>...</td>\n",
       "      <td>False</td>\n",
       "      <td>False</td>\n",
       "      <td>False</td>\n",
       "      <td>False</td>\n",
       "      <td>False</td>\n",
       "      <td>False</td>\n",
       "      <td>False</td>\n",
       "      <td>False</td>\n",
       "      <td>False</td>\n",
       "      <td>False</td>\n",
       "    </tr>\n",
       "  </tbody>\n",
       "</table>\n",
       "<p>1470 rows × 22 columns</p>\n",
       "</div>"
      ],
      "text/plain": [
       "        Age  Attrition  BusinessTravel  Department  DistanceFromHome  \\\n",
       "0     False      False           False       False             False   \n",
       "1     False      False           False       False             False   \n",
       "2     False      False           False       False             False   \n",
       "3     False      False           False       False             False   \n",
       "4     False      False           False       False             False   \n",
       "...     ...        ...             ...         ...               ...   \n",
       "1465  False      False           False       False             False   \n",
       "1466  False      False           False       False             False   \n",
       "1467  False      False           False       False             False   \n",
       "1468  False      False           False       False             False   \n",
       "1469  False      False           False       False             False   \n",
       "\n",
       "      EnvironmentSatisfaction  Gender  JobLevel  JobRole  JobSatisfaction  \\\n",
       "0                       False   False     False    False            False   \n",
       "1                       False   False     False    False            False   \n",
       "2                       False   False     False    False            False   \n",
       "3                       False   False     False    False            False   \n",
       "4                       False   False     False    False            False   \n",
       "...                       ...     ...       ...      ...              ...   \n",
       "1465                    False   False     False    False            False   \n",
       "1466                    False   False     False    False            False   \n",
       "1467                    False   False     False    False            False   \n",
       "1468                    False   False     False    False            False   \n",
       "1469                    False   False     False    False            False   \n",
       "\n",
       "      ...  OverTime  PercentSalaryHike  RelationshipSatisfaction  \\\n",
       "0     ...     False              False                     False   \n",
       "1     ...     False              False                     False   \n",
       "2     ...     False              False                     False   \n",
       "3     ...     False              False                     False   \n",
       "4     ...     False              False                     False   \n",
       "...   ...       ...                ...                       ...   \n",
       "1465  ...     False              False                     False   \n",
       "1466  ...     False              False                     False   \n",
       "1467  ...     False              False                     False   \n",
       "1468  ...     False              False                     False   \n",
       "1469  ...     False              False                     False   \n",
       "\n",
       "      TotalWorkingYears  TrainingTimesLastYear  WorkLifeBalance  \\\n",
       "0                 False                  False            False   \n",
       "1                 False                  False            False   \n",
       "2                 False                  False            False   \n",
       "3                 False                  False            False   \n",
       "4                 False                  False            False   \n",
       "...                 ...                    ...              ...   \n",
       "1465              False                  False            False   \n",
       "1466              False                  False            False   \n",
       "1467              False                  False            False   \n",
       "1468              False                  False            False   \n",
       "1469              False                  False            False   \n",
       "\n",
       "      YearsAtCompany  YearsInCurrentRole  YearsSinceLastPromotion  \\\n",
       "0              False               False                    False   \n",
       "1              False               False                    False   \n",
       "2              False               False                    False   \n",
       "3              False               False                    False   \n",
       "4              False               False                    False   \n",
       "...              ...                 ...                      ...   \n",
       "1465           False               False                    False   \n",
       "1466           False               False                    False   \n",
       "1467           False               False                    False   \n",
       "1468           False               False                    False   \n",
       "1469           False               False                    False   \n",
       "\n",
       "      YearsWithCurrManager  \n",
       "0                    False  \n",
       "1                    False  \n",
       "2                    False  \n",
       "3                    False  \n",
       "4                    False  \n",
       "...                    ...  \n",
       "1465                 False  \n",
       "1466                 False  \n",
       "1467                 False  \n",
       "1468                 False  \n",
       "1469                 False  \n",
       "\n",
       "[1470 rows x 22 columns]"
      ]
     },
     "execution_count": 7,
     "metadata": {},
     "output_type": "execute_result"
    }
   ],
   "source": [
    "df.isnull()"
   ]
  },
  {
   "cell_type": "code",
   "execution_count": 8,
   "id": "450c697a",
   "metadata": {},
   "outputs": [
    {
     "data": {
      "text/plain": [
       "Age                         0\n",
       "Attrition                   0\n",
       "BusinessTravel              0\n",
       "Department                  0\n",
       "DistanceFromHome            0\n",
       "EnvironmentSatisfaction     0\n",
       "Gender                      0\n",
       "JobLevel                    0\n",
       "JobRole                     0\n",
       "JobSatisfaction             0\n",
       "MonthlyIncome               0\n",
       "NumCompaniesWorked          0\n",
       "OverTime                    0\n",
       "PercentSalaryHike           0\n",
       "RelationshipSatisfaction    0\n",
       "TotalWorkingYears           0\n",
       "TrainingTimesLastYear       0\n",
       "WorkLifeBalance             0\n",
       "YearsAtCompany              0\n",
       "YearsInCurrentRole          0\n",
       "YearsSinceLastPromotion     0\n",
       "YearsWithCurrManager        0\n",
       "dtype: int64"
      ]
     },
     "execution_count": 8,
     "metadata": {},
     "output_type": "execute_result"
    }
   ],
   "source": [
    "df.isnull().sum()"
   ]
  },
  {
   "cell_type": "code",
   "execution_count": 9,
   "id": "5139be49",
   "metadata": {},
   "outputs": [],
   "source": [
    "df.dropna(inplace=True)"
   ]
  },
  {
   "cell_type": "markdown",
   "id": "cb722b2e",
   "metadata": {},
   "source": [
    "# Handiling duplicates"
   ]
  },
  {
   "cell_type": "code",
   "execution_count": 10,
   "id": "548c82ae",
   "metadata": {},
   "outputs": [
    {
     "data": {
      "text/plain": [
       "<bound method DataFrame.duplicated of       Age Attrition     BusinessTravel              Department  \\\n",
       "0      41       Yes      Travel_Rarely                   Sales   \n",
       "1      49        No  Travel_Frequently  Research & Development   \n",
       "2      37       Yes      Travel_Rarely  Research & Development   \n",
       "3      33        No  Travel_Frequently  Research & Development   \n",
       "4      27        No      Travel_Rarely  Research & Development   \n",
       "...   ...       ...                ...                     ...   \n",
       "1465   36        No  Travel_Frequently  Research & Development   \n",
       "1466   39        No      Travel_Rarely  Research & Development   \n",
       "1467   27        No      Travel_Rarely  Research & Development   \n",
       "1468   49        No  Travel_Frequently                   Sales   \n",
       "1469   34        No      Travel_Rarely  Research & Development   \n",
       "\n",
       "      DistanceFromHome  EnvironmentSatisfaction  Gender  JobLevel  \\\n",
       "0                    1                        2  Female         2   \n",
       "1                    8                        3    Male         2   \n",
       "2                    2                        4    Male         1   \n",
       "3                    3                        4  Female         1   \n",
       "4                    2                        1    Male         1   \n",
       "...                ...                      ...     ...       ...   \n",
       "1465                23                        3    Male         2   \n",
       "1466                 6                        4    Male         3   \n",
       "1467                 4                        2    Male         2   \n",
       "1468                 2                        4    Male         2   \n",
       "1469                 8                        2    Male         2   \n",
       "\n",
       "                        JobRole  JobSatisfaction  ...  OverTime  \\\n",
       "0               Sales Executive                4  ...       Yes   \n",
       "1            Research Scientist                2  ...        No   \n",
       "2         Laboratory Technician                3  ...       Yes   \n",
       "3            Research Scientist                3  ...       Yes   \n",
       "4         Laboratory Technician                2  ...        No   \n",
       "...                         ...              ...  ...       ...   \n",
       "1465      Laboratory Technician                4  ...        No   \n",
       "1466  Healthcare Representative                1  ...        No   \n",
       "1467     Manufacturing Director                2  ...       Yes   \n",
       "1468            Sales Executive                2  ...        No   \n",
       "1469      Laboratory Technician                3  ...        No   \n",
       "\n",
       "      PercentSalaryHike RelationshipSatisfaction  TotalWorkingYears  \\\n",
       "0                    11                        1                  8   \n",
       "1                    23                        4                 10   \n",
       "2                    15                        2                  7   \n",
       "3                    11                        3                  8   \n",
       "4                    12                        4                  6   \n",
       "...                 ...                      ...                ...   \n",
       "1465                 17                        3                 17   \n",
       "1466                 15                        1                  9   \n",
       "1467                 20                        2                  6   \n",
       "1468                 14                        4                 17   \n",
       "1469                 12                        1                  6   \n",
       "\n",
       "      TrainingTimesLastYear  WorkLifeBalance  YearsAtCompany  \\\n",
       "0                         0                1               6   \n",
       "1                         3                3              10   \n",
       "2                         3                3               0   \n",
       "3                         3                3               8   \n",
       "4                         3                3               2   \n",
       "...                     ...              ...             ...   \n",
       "1465                      3                3               5   \n",
       "1466                      5                3               7   \n",
       "1467                      0                3               6   \n",
       "1468                      3                2               9   \n",
       "1469                      3                4               4   \n",
       "\n",
       "      YearsInCurrentRole  YearsSinceLastPromotion  YearsWithCurrManager  \n",
       "0                      4                        0                     5  \n",
       "1                      7                        1                     7  \n",
       "2                      0                        0                     0  \n",
       "3                      7                        3                     0  \n",
       "4                      2                        2                     2  \n",
       "...                  ...                      ...                   ...  \n",
       "1465                   2                        0                     3  \n",
       "1466                   7                        1                     7  \n",
       "1467                   2                        0                     3  \n",
       "1468                   6                        0                     8  \n",
       "1469                   3                        1                     2  \n",
       "\n",
       "[1470 rows x 22 columns]>"
      ]
     },
     "execution_count": 10,
     "metadata": {},
     "output_type": "execute_result"
    }
   ],
   "source": [
    "df.duplicated"
   ]
  },
  {
   "cell_type": "code",
   "execution_count": 11,
   "id": "07c75341",
   "metadata": {},
   "outputs": [
    {
     "data": {
      "text/plain": [
       "np.int64(0)"
      ]
     },
     "execution_count": 11,
     "metadata": {},
     "output_type": "execute_result"
    }
   ],
   "source": [
    "df.duplicated().sum()"
   ]
  },
  {
   "cell_type": "code",
   "execution_count": 12,
   "id": "ec248a0d",
   "metadata": {},
   "outputs": [
    {
     "data": {
      "text/html": [
       "<div>\n",
       "<style scoped>\n",
       "    .dataframe tbody tr th:only-of-type {\n",
       "        vertical-align: middle;\n",
       "    }\n",
       "\n",
       "    .dataframe tbody tr th {\n",
       "        vertical-align: top;\n",
       "    }\n",
       "\n",
       "    .dataframe thead th {\n",
       "        text-align: right;\n",
       "    }\n",
       "</style>\n",
       "<table border=\"1\" class=\"dataframe\">\n",
       "  <thead>\n",
       "    <tr style=\"text-align: right;\">\n",
       "      <th></th>\n",
       "      <th>Age</th>\n",
       "      <th>Attrition</th>\n",
       "      <th>BusinessTravel</th>\n",
       "      <th>Department</th>\n",
       "      <th>DistanceFromHome</th>\n",
       "      <th>EnvironmentSatisfaction</th>\n",
       "      <th>Gender</th>\n",
       "      <th>JobLevel</th>\n",
       "      <th>JobRole</th>\n",
       "      <th>JobSatisfaction</th>\n",
       "      <th>...</th>\n",
       "      <th>OverTime</th>\n",
       "      <th>PercentSalaryHike</th>\n",
       "      <th>RelationshipSatisfaction</th>\n",
       "      <th>TotalWorkingYears</th>\n",
       "      <th>TrainingTimesLastYear</th>\n",
       "      <th>WorkLifeBalance</th>\n",
       "      <th>YearsAtCompany</th>\n",
       "      <th>YearsInCurrentRole</th>\n",
       "      <th>YearsSinceLastPromotion</th>\n",
       "      <th>YearsWithCurrManager</th>\n",
       "    </tr>\n",
       "  </thead>\n",
       "  <tbody>\n",
       "  </tbody>\n",
       "</table>\n",
       "<p>0 rows × 22 columns</p>\n",
       "</div>"
      ],
      "text/plain": [
       "Empty DataFrame\n",
       "Columns: [Age, Attrition, BusinessTravel, Department, DistanceFromHome, EnvironmentSatisfaction, Gender, JobLevel, JobRole, JobSatisfaction, MonthlyIncome, NumCompaniesWorked, OverTime, PercentSalaryHike, RelationshipSatisfaction, TotalWorkingYears, TrainingTimesLastYear, WorkLifeBalance, YearsAtCompany, YearsInCurrentRole, YearsSinceLastPromotion, YearsWithCurrManager]\n",
       "Index: []\n",
       "\n",
       "[0 rows x 22 columns]"
      ]
     },
     "execution_count": 12,
     "metadata": {},
     "output_type": "execute_result"
    }
   ],
   "source": [
    "df[df.duplicated()]"
   ]
  },
  {
   "cell_type": "code",
   "execution_count": 13,
   "id": "7889d771",
   "metadata": {},
   "outputs": [],
   "source": [
    "#Removing duplicates\n",
    "df.drop_duplicates(inplace=True)"
   ]
  },
  {
   "cell_type": "markdown",
   "id": "11763c21",
   "metadata": {},
   "source": [
    "# Correcting data Types"
   ]
  },
  {
   "cell_type": "code",
   "execution_count": 14,
   "id": "782c1bd0",
   "metadata": {},
   "outputs": [
    {
     "data": {
      "text/plain": [
       "Age                          int64\n",
       "Attrition                   object\n",
       "BusinessTravel              object\n",
       "Department                  object\n",
       "DistanceFromHome             int64\n",
       "EnvironmentSatisfaction      int64\n",
       "Gender                      object\n",
       "JobLevel                     int64\n",
       "JobRole                     object\n",
       "JobSatisfaction              int64\n",
       "MonthlyIncome                int64\n",
       "NumCompaniesWorked           int64\n",
       "OverTime                    object\n",
       "PercentSalaryHike            int64\n",
       "RelationshipSatisfaction     int64\n",
       "TotalWorkingYears            int64\n",
       "TrainingTimesLastYear        int64\n",
       "WorkLifeBalance              int64\n",
       "YearsAtCompany               int64\n",
       "YearsInCurrentRole           int64\n",
       "YearsSinceLastPromotion      int64\n",
       "YearsWithCurrManager         int64\n",
       "dtype: object"
      ]
     },
     "execution_count": 14,
     "metadata": {},
     "output_type": "execute_result"
    }
   ],
   "source": [
    "df.dtypes"
   ]
  },
  {
   "cell_type": "code",
   "execution_count": 15,
   "id": "5c7dbf94",
   "metadata": {},
   "outputs": [],
   "source": [
    "df['Attrition']=df['Attrition'].map({'Yes': 1, 'No': 0})\n",
    "df['OverTime']=df['OverTime'].map({'Yes': 1, 'No': 0})"
   ]
  },
  {
   "cell_type": "code",
   "execution_count": 16,
   "id": "e9c4a23e",
   "metadata": {},
   "outputs": [
    {
     "data": {
      "text/html": [
       "<div>\n",
       "<style scoped>\n",
       "    .dataframe tbody tr th:only-of-type {\n",
       "        vertical-align: middle;\n",
       "    }\n",
       "\n",
       "    .dataframe tbody tr th {\n",
       "        vertical-align: top;\n",
       "    }\n",
       "\n",
       "    .dataframe thead th {\n",
       "        text-align: right;\n",
       "    }\n",
       "</style>\n",
       "<table border=\"1\" class=\"dataframe\">\n",
       "  <thead>\n",
       "    <tr style=\"text-align: right;\">\n",
       "      <th></th>\n",
       "      <th>Age</th>\n",
       "      <th>Attrition</th>\n",
       "      <th>BusinessTravel</th>\n",
       "      <th>Department</th>\n",
       "      <th>DistanceFromHome</th>\n",
       "      <th>EnvironmentSatisfaction</th>\n",
       "      <th>Gender</th>\n",
       "      <th>JobLevel</th>\n",
       "      <th>JobRole</th>\n",
       "      <th>JobSatisfaction</th>\n",
       "      <th>...</th>\n",
       "      <th>OverTime</th>\n",
       "      <th>PercentSalaryHike</th>\n",
       "      <th>RelationshipSatisfaction</th>\n",
       "      <th>TotalWorkingYears</th>\n",
       "      <th>TrainingTimesLastYear</th>\n",
       "      <th>WorkLifeBalance</th>\n",
       "      <th>YearsAtCompany</th>\n",
       "      <th>YearsInCurrentRole</th>\n",
       "      <th>YearsSinceLastPromotion</th>\n",
       "      <th>YearsWithCurrManager</th>\n",
       "    </tr>\n",
       "  </thead>\n",
       "  <tbody>\n",
       "    <tr>\n",
       "      <th>0</th>\n",
       "      <td>41</td>\n",
       "      <td>1</td>\n",
       "      <td>Travel_Rarely</td>\n",
       "      <td>Sales</td>\n",
       "      <td>1</td>\n",
       "      <td>2</td>\n",
       "      <td>Female</td>\n",
       "      <td>2</td>\n",
       "      <td>Sales Executive</td>\n",
       "      <td>4</td>\n",
       "      <td>...</td>\n",
       "      <td>1</td>\n",
       "      <td>11</td>\n",
       "      <td>1</td>\n",
       "      <td>8</td>\n",
       "      <td>0</td>\n",
       "      <td>1</td>\n",
       "      <td>6</td>\n",
       "      <td>4</td>\n",
       "      <td>0</td>\n",
       "      <td>5</td>\n",
       "    </tr>\n",
       "    <tr>\n",
       "      <th>1</th>\n",
       "      <td>49</td>\n",
       "      <td>0</td>\n",
       "      <td>Travel_Frequently</td>\n",
       "      <td>Research &amp; Development</td>\n",
       "      <td>8</td>\n",
       "      <td>3</td>\n",
       "      <td>Male</td>\n",
       "      <td>2</td>\n",
       "      <td>Research Scientist</td>\n",
       "      <td>2</td>\n",
       "      <td>...</td>\n",
       "      <td>0</td>\n",
       "      <td>23</td>\n",
       "      <td>4</td>\n",
       "      <td>10</td>\n",
       "      <td>3</td>\n",
       "      <td>3</td>\n",
       "      <td>10</td>\n",
       "      <td>7</td>\n",
       "      <td>1</td>\n",
       "      <td>7</td>\n",
       "    </tr>\n",
       "    <tr>\n",
       "      <th>2</th>\n",
       "      <td>37</td>\n",
       "      <td>1</td>\n",
       "      <td>Travel_Rarely</td>\n",
       "      <td>Research &amp; Development</td>\n",
       "      <td>2</td>\n",
       "      <td>4</td>\n",
       "      <td>Male</td>\n",
       "      <td>1</td>\n",
       "      <td>Laboratory Technician</td>\n",
       "      <td>3</td>\n",
       "      <td>...</td>\n",
       "      <td>1</td>\n",
       "      <td>15</td>\n",
       "      <td>2</td>\n",
       "      <td>7</td>\n",
       "      <td>3</td>\n",
       "      <td>3</td>\n",
       "      <td>0</td>\n",
       "      <td>0</td>\n",
       "      <td>0</td>\n",
       "      <td>0</td>\n",
       "    </tr>\n",
       "    <tr>\n",
       "      <th>3</th>\n",
       "      <td>33</td>\n",
       "      <td>0</td>\n",
       "      <td>Travel_Frequently</td>\n",
       "      <td>Research &amp; Development</td>\n",
       "      <td>3</td>\n",
       "      <td>4</td>\n",
       "      <td>Female</td>\n",
       "      <td>1</td>\n",
       "      <td>Research Scientist</td>\n",
       "      <td>3</td>\n",
       "      <td>...</td>\n",
       "      <td>1</td>\n",
       "      <td>11</td>\n",
       "      <td>3</td>\n",
       "      <td>8</td>\n",
       "      <td>3</td>\n",
       "      <td>3</td>\n",
       "      <td>8</td>\n",
       "      <td>7</td>\n",
       "      <td>3</td>\n",
       "      <td>0</td>\n",
       "    </tr>\n",
       "    <tr>\n",
       "      <th>4</th>\n",
       "      <td>27</td>\n",
       "      <td>0</td>\n",
       "      <td>Travel_Rarely</td>\n",
       "      <td>Research &amp; Development</td>\n",
       "      <td>2</td>\n",
       "      <td>1</td>\n",
       "      <td>Male</td>\n",
       "      <td>1</td>\n",
       "      <td>Laboratory Technician</td>\n",
       "      <td>2</td>\n",
       "      <td>...</td>\n",
       "      <td>0</td>\n",
       "      <td>12</td>\n",
       "      <td>4</td>\n",
       "      <td>6</td>\n",
       "      <td>3</td>\n",
       "      <td>3</td>\n",
       "      <td>2</td>\n",
       "      <td>2</td>\n",
       "      <td>2</td>\n",
       "      <td>2</td>\n",
       "    </tr>\n",
       "  </tbody>\n",
       "</table>\n",
       "<p>5 rows × 22 columns</p>\n",
       "</div>"
      ],
      "text/plain": [
       "   Age  Attrition     BusinessTravel              Department  \\\n",
       "0   41          1      Travel_Rarely                   Sales   \n",
       "1   49          0  Travel_Frequently  Research & Development   \n",
       "2   37          1      Travel_Rarely  Research & Development   \n",
       "3   33          0  Travel_Frequently  Research & Development   \n",
       "4   27          0      Travel_Rarely  Research & Development   \n",
       "\n",
       "   DistanceFromHome  EnvironmentSatisfaction  Gender  JobLevel  \\\n",
       "0                 1                        2  Female         2   \n",
       "1                 8                        3    Male         2   \n",
       "2                 2                        4    Male         1   \n",
       "3                 3                        4  Female         1   \n",
       "4                 2                        1    Male         1   \n",
       "\n",
       "                 JobRole  JobSatisfaction  ...  OverTime  PercentSalaryHike  \\\n",
       "0        Sales Executive                4  ...         1                 11   \n",
       "1     Research Scientist                2  ...         0                 23   \n",
       "2  Laboratory Technician                3  ...         1                 15   \n",
       "3     Research Scientist                3  ...         1                 11   \n",
       "4  Laboratory Technician                2  ...         0                 12   \n",
       "\n",
       "   RelationshipSatisfaction  TotalWorkingYears  TrainingTimesLastYear  \\\n",
       "0                         1                  8                      0   \n",
       "1                         4                 10                      3   \n",
       "2                         2                  7                      3   \n",
       "3                         3                  8                      3   \n",
       "4                         4                  6                      3   \n",
       "\n",
       "   WorkLifeBalance  YearsAtCompany  YearsInCurrentRole  \\\n",
       "0                1               6                   4   \n",
       "1                3              10                   7   \n",
       "2                3               0                   0   \n",
       "3                3               8                   7   \n",
       "4                3               2                   2   \n",
       "\n",
       "   YearsSinceLastPromotion  YearsWithCurrManager  \n",
       "0                        0                     5  \n",
       "1                        1                     7  \n",
       "2                        0                     0  \n",
       "3                        3                     0  \n",
       "4                        2                     2  \n",
       "\n",
       "[5 rows x 22 columns]"
      ]
     },
     "execution_count": 16,
     "metadata": {},
     "output_type": "execute_result"
    }
   ],
   "source": [
    "df.head()"
   ]
  },
  {
   "cell_type": "code",
   "execution_count": 17,
   "id": "b22f47ce",
   "metadata": {},
   "outputs": [
    {
     "data": {
      "text/plain": [
       "Age                         0\n",
       "Attrition                   0\n",
       "BusinessTravel              0\n",
       "Department                  0\n",
       "DistanceFromHome            0\n",
       "EnvironmentSatisfaction     0\n",
       "Gender                      0\n",
       "JobLevel                    0\n",
       "JobRole                     0\n",
       "JobSatisfaction             0\n",
       "MonthlyIncome               0\n",
       "NumCompaniesWorked          0\n",
       "OverTime                    0\n",
       "PercentSalaryHike           0\n",
       "RelationshipSatisfaction    0\n",
       "TotalWorkingYears           0\n",
       "TrainingTimesLastYear       0\n",
       "WorkLifeBalance             0\n",
       "YearsAtCompany              0\n",
       "YearsInCurrentRole          0\n",
       "YearsSinceLastPromotion     0\n",
       "YearsWithCurrManager        0\n",
       "dtype: int64"
      ]
     },
     "execution_count": 17,
     "metadata": {},
     "output_type": "execute_result"
    }
   ],
   "source": [
    "df.isna().sum()"
   ]
  },
  {
   "cell_type": "code",
   "execution_count": 18,
   "id": "127a1a96",
   "metadata": {},
   "outputs": [],
   "source": [
    "df['Department']=df['Department'].astype('category')"
   ]
  },
  {
   "cell_type": "markdown",
   "id": "7f7f6c07",
   "metadata": {},
   "source": [
    "# Outlier detection and treatment"
   ]
  },
  {
   "cell_type": "code",
   "execution_count": 19,
   "id": "e3279301",
   "metadata": {},
   "outputs": [],
   "source": [
    "import matplotlib.pyplot as plt\n",
    "import seaborn as sns"
   ]
  },
  {
   "cell_type": "code",
   "execution_count": 20,
   "id": "e34cfc91",
   "metadata": {},
   "outputs": [
    {
     "data": {
      "text/plain": [
       "<Axes: xlabel='Age'>"
      ]
     },
     "execution_count": 20,
     "metadata": {},
     "output_type": "execute_result"
    },
    {
     "data": {
      "image/png": "[encoded data removed]",
      "text/plain": [
       "<Figure size 640x480 with 1 Axes>"
      ]
     },
     "metadata": {},
     "output_type": "display_data"
    }
   ],
   "source": [
    "sns.boxplot(x=df['Age'])"
   ]
  },
  {
   "cell_type": "code",
   "execution_count": 21,
   "id": "b32d1ab4",
   "metadata": {},
   "outputs": [
    {
     "data": {
      "text/plain": [
       "<Axes: xlabel='MonthlyIncome'>"
      ]
     },
     "execution_count": 21,
     "metadata": {},
     "output_type": "execute_result"
    },
    {
     "data": {
      "image/png": "[encoded data removed]",
      "text/plain": [
       "<Figure size 640x480 with 1 Axes>"
      ]
     },
     "metadata": {},
     "output_type": "display_data"
    }
   ],
   "source": [
    "sns.boxplot(x=df['MonthlyIncome'])"
   ]
  },
  {
   "cell_type": "code",
   "execution_count": 22,
   "id": "3fe9657f",
   "metadata": {},
   "outputs": [
    {
     "name": "stdout",
     "output_type": "stream",
     "text": [
      "25      19094\n",
      "29      18947\n",
      "45      19545\n",
      "62      18740\n",
      "105     18844\n",
      "        ...  \n",
      "1374    17875\n",
      "1377    19161\n",
      "1401    19636\n",
      "1437    19431\n",
      "1443    18880\n",
      "Name: MonthlyIncome, Length: 114, dtype: int64\n",
      "114\n"
     ]
    }
   ],
   "source": [
    "Q1 = df['MonthlyIncome'].quantile(0.25)\n",
    "Q3 = df['MonthlyIncome'].quantile(0.75)\n",
    "IQR = Q3 - Q1\n",
    "\n",
    "lower_bound = Q1 - 1.5 * IQR\n",
    "upper_bound = Q3 + 1.5 * IQR\n",
    "\n",
    "outliers = df[(df['MonthlyIncome'] < lower_bound) | (df['MonthlyIncome'] > upper_bound)]\n",
    "print(outliers['MonthlyIncome'])\n",
    "print(len(outliers))\n"
   ]
  },
  {
   "cell_type": "code",
   "execution_count": 23,
   "id": "a92f518c",
   "metadata": {},
   "outputs": [
    {
     "data": {
      "text/plain": [
       "['Age',\n",
       " 'Attrition',\n",
       " 'BusinessTravel',\n",
       " 'Department',\n",
       " 'DistanceFromHome',\n",
       " 'EnvironmentSatisfaction',\n",
       " 'Gender',\n",
       " 'JobLevel',\n",
       " 'JobRole',\n",
       " 'JobSatisfaction',\n",
       " 'MonthlyIncome',\n",
       " 'NumCompaniesWorked',\n",
       " 'OverTime',\n",
       " 'PercentSalaryHike',\n",
       " 'RelationshipSatisfaction',\n",
       " 'TotalWorkingYears',\n",
       " 'TrainingTimesLastYear',\n",
       " 'WorkLifeBalance',\n",
       " 'YearsAtCompany',\n",
       " 'YearsInCurrentRole',\n",
       " 'YearsSinceLastPromotion',\n",
       " 'YearsWithCurrManager']"
      ]
     },
     "execution_count": 23,
     "metadata": {},
     "output_type": "execute_result"
    }
   ],
   "source": [
    "list(df.columns)"
   ]
  },
  {
   "cell_type": "code",
   "execution_count": 24,
   "id": "882fcc2f",
   "metadata": {},
   "outputs": [
    {
     "name": "stdout",
     "output_type": "stream",
     "text": [
      "Column: Attrition, Outliers found: 237\n",
      "  Min outlier value: 1\n",
      "  Max outlier value: 1\n",
      "----------------------------------------\n",
      "Column: MonthlyIncome, Outliers found: 114\n",
      "  Min outlier value: 16595\n",
      "  Max outlier value: 19999\n",
      "----------------------------------------\n",
      "Column: NumCompaniesWorked, Outliers found: 52\n",
      "  Min outlier value: 9\n",
      "  Max outlier value: 9\n",
      "----------------------------------------\n",
      "Column: TotalWorkingYears, Outliers found: 63\n",
      "  Min outlier value: 29\n",
      "  Max outlier value: 40\n",
      "----------------------------------------\n",
      "Column: TrainingTimesLastYear, Outliers found: 238\n",
      "  Min outlier value: 0\n",
      "  Max outlier value: 6\n",
      "----------------------------------------\n",
      "Column: YearsAtCompany, Outliers found: 104\n",
      "  Min outlier value: 19\n",
      "  Max outlier value: 40\n",
      "----------------------------------------\n",
      "Column: YearsInCurrentRole, Outliers found: 21\n",
      "  Min outlier value: 15\n",
      "  Max outlier value: 18\n",
      "----------------------------------------\n",
      "Column: YearsSinceLastPromotion, Outliers found: 107\n",
      "  Min outlier value: 8\n",
      "  Max outlier value: 15\n",
      "----------------------------------------\n",
      "Column: YearsWithCurrManager, Outliers found: 14\n",
      "  Min outlier value: 15\n",
      "  Max outlier value: 17\n",
      "----------------------------------------\n"
     ]
    }
   ],
   "source": [
    "numeric_cols = df.select_dtypes(include=[np.number]).columns\n",
    "\n",
    "for col in numeric_cols:\n",
    "    Q1 = df[col].quantile(0.25)\n",
    "    Q3 = df[col].quantile(0.75)\n",
    "    IQR = Q3 - Q1\n",
    "\n",
    "    lower_bound = Q1 - 1.5 * IQR\n",
    "    upper_bound = Q3 + 1.5 * IQR\n",
    "\n",
    "    outliers = df[(df[col] < lower_bound) | (df[col] > upper_bound)]\n",
    "\n",
    "    if not outliers.empty:\n",
    "        print(f\"Column: {col}, Outliers found: {len(outliers)}\")\n",
    "        print(\"  Min outlier value:\", outliers[col].min())\n",
    "        print(\"  Max outlier value:\", outliers[col].max())\n",
    "        print(\"-\" * 40)\n"
   ]
  },
  {
   "cell_type": "markdown",
   "id": "14a2a4ef",
   "metadata": {},
   "source": [
    "# Outlier in MonthlyIncome"
   ]
  },
  {
   "cell_type": "code",
   "execution_count": 25,
   "id": "bcdba899",
   "metadata": {},
   "outputs": [
    {
     "data": {
      "text/plain": [
       "<Axes: xlabel='MonthlyIncome'>"
      ]
     },
     "execution_count": 25,
     "metadata": {},
     "output_type": "execute_result"
    },
    {
     "data": {
      "image/png": "[encoded data removed]",
      "text/plain": [
       "<Figure size 640x480 with 1 Axes>"
      ]
     },
     "metadata": {},
     "output_type": "display_data"
    }
   ],
   "source": [
    "sns.boxplot(x=df['MonthlyIncome'])"
   ]
  },
  {
   "cell_type": "code",
   "execution_count": 26,
   "id": "fea7edea",
   "metadata": {},
   "outputs": [
    {
     "name": "stdout",
     "output_type": "stream",
     "text": [
      "25      19094\n",
      "29      18947\n",
      "45      19545\n",
      "62      18740\n",
      "105     18844\n",
      "        ...  \n",
      "1374    17875\n",
      "1377    19161\n",
      "1401    19636\n",
      "1437    19431\n",
      "1443    18880\n",
      "Name: MonthlyIncome, Length: 114, dtype: int64\n",
      "25      53\n",
      "29      46\n",
      "45      41\n",
      "62      50\n",
      "105     59\n",
      "        ..\n",
      "1374    58\n",
      "1377    49\n",
      "1401    55\n",
      "1437    39\n",
      "1443    42\n",
      "Name: Age, Length: 114, dtype: int64\n"
     ]
    }
   ],
   "source": [
    "col='MonthlyIncome'\n",
    "Q1 = df[col].quantile(0.25)\n",
    "Q3 = df[col].quantile(0.75)\n",
    "IQR = Q3 - Q1\n",
    "\n",
    "lower_bound = Q1 - 1.5 * IQR\n",
    "upper_bound = Q3 + 1.5 * IQR\n",
    "\n",
    "outliers = df[(df[col] < lower_bound) | (df[col] > upper_bound)]\n",
    "print(outliers['MonthlyIncome'])\n",
    "print(outliers['Age'])"
   ]
  },
  {
   "cell_type": "code",
   "execution_count": 27,
   "id": "8966c114",
   "metadata": {},
   "outputs": [],
   "source": [
    "suspicious_income = df[\n",
    "    (df['MonthlyIncome'] > 16595) &   # very high salary\n",
    "    (df['Age'] < 30) &                # but too young\n",
    "    (df['JobLevel'] <= 2)             # and low job level\n",
    "]\n",
    "suspicious_income\n",
    "df=df.drop(suspicious_income.index)"
   ]
  },
  {
   "cell_type": "markdown",
   "id": "c897ba67",
   "metadata": {},
   "source": [
    "#  Outlier in NumCompaniesWorked"
   ]
  },
  {
   "cell_type": "code",
   "execution_count": 28,
   "id": "84a68e84",
   "metadata": {},
   "outputs": [
    {
     "data": {
      "text/plain": [
       "<Axes: xlabel='NumCompaniesWorked'>"
      ]
     },
     "execution_count": 28,
     "metadata": {},
     "output_type": "execute_result"
    },
    {
     "data": {
      "image/png": "[encoded data removed]",
      "text/plain": [
       "<Figure size 640x480 with 1 Axes>"
      ]
     },
     "metadata": {},
     "output_type": "display_data"
    }
   ],
   "source": [
    "sns.boxplot(x=df['NumCompaniesWorked'])"
   ]
  },
  {
   "cell_type": "code",
   "execution_count": 29,
   "id": "b72851cd",
   "metadata": {},
   "outputs": [
    {
     "name": "stdout",
     "output_type": "stream",
     "text": [
      "(1470, 22)\n"
     ]
    }
   ],
   "source": [
    "suspicious_companies = df[\n",
    "    (df['NumCompaniesWorked'] == 9) &\n",
    "    (df['TotalWorkingYears'] < 10) &\n",
    "    ((df['Age'] < 30) | (df['JobLevel'] > 3))\n",
    "]\n",
    "print(df.shape)\n",
    "df=df.drop(suspicious_companies.index)\n",
    "\n"
   ]
  },
  {
   "cell_type": "code",
   "execution_count": 30,
   "id": "411d3643",
   "metadata": {},
   "outputs": [
    {
     "data": {
      "text/plain": [
       "(1463, 22)"
      ]
     },
     "execution_count": 30,
     "metadata": {},
     "output_type": "execute_result"
    }
   ],
   "source": [
    "df.shape"
   ]
  },
  {
   "cell_type": "markdown",
   "id": "f383ce33",
   "metadata": {},
   "source": [
    "# Outlier in TotalWorkingYears"
   ]
  },
  {
   "cell_type": "code",
   "execution_count": 31,
   "id": "9860b40a",
   "metadata": {},
   "outputs": [
    {
     "data": {
      "text/plain": [
       "<Axes: xlabel='TotalWorkingYears'>"
      ]
     },
     "execution_count": 31,
     "metadata": {},
     "output_type": "execute_result"
    },
    {
     "data": {
      "image/png": "[encoded data removed]",
      "text/plain": [
       "<Figure size 640x480 with 1 Axes>"
      ]
     },
     "metadata": {},
     "output_type": "display_data"
    }
   ],
   "source": [
    "sns.boxplot(x=df['TotalWorkingYears'])"
   ]
  },
  {
   "cell_type": "code",
   "execution_count": 32,
   "id": "f6d016d3",
   "metadata": {},
   "outputs": [
    {
     "name": "stdout",
     "output_type": "stream",
     "text": [
      "Age inconsistency anomalies: 0\n",
      "Company vs Total inconsistency anomalies: 0\n"
     ]
    }
   ],
   "source": [
    "age_inconsistent = df[df['TotalWorkingYears'] > (df['Age'] - 18)]\n",
    "print(\"Age inconsistency anomalies:\", age_inconsistent.shape[0])\n",
    "df=df.drop(age_inconsistent.index)\n",
    "\n",
    "# 3. Check if YearsAtCompany > TotalWorkingYears (not possible)\n",
    "company_inconsistent = df[df['YearsAtCompany'] > df['TotalWorkingYears']]\n",
    "print(\"Company vs Total inconsistency anomalies:\", company_inconsistent.shape[0])\n",
    "df=df.drop(company_inconsistent.index)\n",
    "# Combine all anomalies for review\n"
   ]
  },
  {
   "cell_type": "markdown",
   "id": "3b168722",
   "metadata": {},
   "source": [
    "# Outlier in TrainingTimesLastYear"
   ]
  },
  {
   "cell_type": "code",
   "execution_count": 33,
   "id": "6382b51e",
   "metadata": {},
   "outputs": [
    {
     "data": {
      "text/plain": [
       "<Axes: xlabel='TrainingTimesLastYear'>"
      ]
     },
     "execution_count": 33,
     "metadata": {},
     "output_type": "execute_result"
    },
    {
     "data": {
      "image/png": "[encoded data removed]",
      "text/plain": [
       "<Figure size 640x480 with 1 Axes>"
      ]
     },
     "metadata": {},
     "output_type": "display_data"
    }
   ],
   "source": [
    "sns.boxplot(x=df[\"TrainingTimesLastYear\"])"
   ]
  },
  {
   "cell_type": "markdown",
   "id": "ddaf7349",
   "metadata": {},
   "source": [
    "# Outlier in Yearsatcompany"
   ]
  },
  {
   "cell_type": "code",
   "execution_count": 34,
   "id": "77328193",
   "metadata": {},
   "outputs": [
    {
     "data": {
      "text/plain": [
       "<Axes: xlabel='YearsAtCompany'>"
      ]
     },
     "execution_count": 34,
     "metadata": {},
     "output_type": "execute_result"
    },
    {
     "data": {
      "image/png": "[encoded data removed]",
      "text/plain": [
       "<Figure size 640x480 with 1 Axes>"
      ]
     },
     "metadata": {},
     "output_type": "display_data"
    }
   ],
   "source": [
    "sns.boxplot(x=df['YearsAtCompany'])"
   ]
  },
  {
   "cell_type": "code",
   "execution_count": 35,
   "id": "bc4ca6cb",
   "metadata": {},
   "outputs": [
    {
     "name": "stdout",
     "output_type": "stream",
     "text": [
      "Age vs Company anomalies: 0\n",
      "WorkingYears vs Company anomalies: 0\n",
      "JobLevel vs Company anomalies: 0\n",
      "Total suspicious YearsAtCompany anomalies: 0\n"
     ]
    }
   ],
   "source": [
    "# 1. Age inconsistency\n",
    "age_issue = df[df['YearsAtCompany'] > (df['Age'] - 18)]\n",
    "\n",
    "# 2. TotalWorkingYears inconsistency\n",
    "working_issue = df[df['YearsAtCompany'] > df['TotalWorkingYears']]\n",
    "\n",
    "# 3. JobLevel inconsistency\n",
    "joblevel_issue = df[\n",
    "    ((df['YearsAtCompany'] > 20) & (df['JobLevel'] <= 2))\n",
    "]\n",
    "\n",
    "# Combine suspicious cases\n",
    "suspicious_years = pd.concat([age_issue, working_issue, joblevel_issue]).drop_duplicates()\n",
    "\n",
    "print(\"Age vs Company anomalies:\", len(age_issue))\n",
    "print(\"WorkingYears vs Company anomalies:\", len(working_issue))\n",
    "print(\"JobLevel vs Company anomalies:\", len(joblevel_issue))\n",
    "print(\"Total suspicious YearsAtCompany anomalies:\", len(suspicious_years))\n"
   ]
  },
  {
   "cell_type": "markdown",
   "id": "661a5e84",
   "metadata": {},
   "source": [
    "# Outlier in Yearsincurrentrole"
   ]
  },
  {
   "cell_type": "code",
   "execution_count": 36,
   "id": "615b98e5",
   "metadata": {},
   "outputs": [
    {
     "data": {
      "text/plain": [
       "<Axes: xlabel='YearsInCurrentRole'>"
      ]
     },
     "execution_count": 36,
     "metadata": {},
     "output_type": "execute_result"
    },
    {
     "data": {
      "image/png": "[encoded data removed]",
      "text/plain": [
       "<Figure size 640x480 with 1 Axes>"
      ]
     },
     "metadata": {},
     "output_type": "display_data"
    }
   ],
   "source": [
    "sns.boxplot(x=df['YearsInCurrentRole'])"
   ]
  },
  {
   "cell_type": "code",
   "execution_count": 37,
   "id": "4f0229ff",
   "metadata": {},
   "outputs": [
    {
     "name": "stdout",
     "output_type": "stream",
     "text": [
      "Role anomalies: 2\n"
     ]
    }
   ],
   "source": [
    "# YearsInCurrentRole anomalies\n",
    "role_issue = df[\n",
    "    (df['YearsInCurrentRole'] >= 15) & (df['JobLevel'] <= 2)\n",
    "]\n",
    "\n",
    "\n",
    "print(\"Role anomalies:\", len(role_issue))\n"
   ]
  },
  {
   "cell_type": "code",
   "execution_count": 38,
   "id": "639a8ae6",
   "metadata": {},
   "outputs": [
    {
     "data": {
      "text/plain": [
       "(1461, 22)"
      ]
     },
     "execution_count": 38,
     "metadata": {},
     "output_type": "execute_result"
    }
   ],
   "source": [
    "df=df.drop(role_issue.index)\n",
    "df.shape"
   ]
  },
  {
   "cell_type": "markdown",
   "id": "b0914d08",
   "metadata": {},
   "source": [
    "# Outlier in  Yearssincelastpromotion"
   ]
  },
  {
   "cell_type": "code",
   "execution_count": 39,
   "id": "eeef984f",
   "metadata": {},
   "outputs": [
    {
     "data": {
      "text/plain": [
       "<Axes: xlabel='YearsSinceLastPromotion'>"
      ]
     },
     "execution_count": 39,
     "metadata": {},
     "output_type": "execute_result"
    },
    {
     "data": {
      "image/png": "[encoded data removed]",
      "text/plain": [
       "<Figure size 640x480 with 1 Axes>"
      ]
     },
     "metadata": {},
     "output_type": "display_data"
    }
   ],
   "source": [
    "sns.boxplot(x=df['YearsSinceLastPromotion'])"
   ]
  },
  {
   "cell_type": "code",
   "execution_count": 40,
   "id": "2e7b4ea4",
   "metadata": {},
   "outputs": [
    {
     "name": "stdout",
     "output_type": "stream",
     "text": [
      "Promotion anomalies: 13\n"
     ]
    }
   ],
   "source": [
    "# YearsSinceLastPromotion anomalies\n",
    "promotion_issue = df[\n",
    "    (df['YearsSinceLastPromotion'] >= 10) & (df['JobLevel'] <= 2)\n",
    "\n",
    "]\n",
    "print(\"Promotion anomalies:\", len(promotion_issue))"
   ]
  },
  {
   "cell_type": "code",
   "execution_count": 41,
   "id": "0cca630c",
   "metadata": {},
   "outputs": [
    {
     "name": "stdout",
     "output_type": "stream",
     "text": [
      "(1448, 22)\n"
     ]
    }
   ],
   "source": [
    "df=df.drop(promotion_issue.index)\n",
    "print(df.shape)"
   ]
  },
  {
   "cell_type": "markdown",
   "id": "59072b64",
   "metadata": {},
   "source": [
    "# Outlier in YearsWithCurrManager"
   ]
  },
  {
   "cell_type": "code",
   "execution_count": 42,
   "id": "162ee5b9",
   "metadata": {},
   "outputs": [
    {
     "data": {
      "text/plain": [
       "<Axes: xlabel='YearsWithCurrManager'>"
      ]
     },
     "execution_count": 42,
     "metadata": {},
     "output_type": "execute_result"
    },
    {
     "data": {
      "image/png": "[encoded data removed]",
      "text/plain": [
       "<Figure size 640x480 with 1 Axes>"
      ]
     },
     "metadata": {},
     "output_type": "display_data"
    }
   ],
   "source": [
    "sns.boxplot(x=df['YearsWithCurrManager'])"
   ]
  },
  {
   "cell_type": "code",
   "execution_count": 43,
   "id": "5b6216d4",
   "metadata": {},
   "outputs": [
    {
     "name": "stdout",
     "output_type": "stream",
     "text": [
      "Manager anomalies: 0\n"
     ]
    }
   ],
   "source": [
    "# YearsWithCurrManager anomalies\n",
    "manager_issue = df[\n",
    "    (df['YearsWithCurrManager'] >= 15) & \n",
    "    (df['YearsWithCurrManager'] > df['YearsAtCompany'])\n",
    "]\n",
    "print(\"Manager anomalies:\", len(manager_issue))"
   ]
  },
  {
   "cell_type": "code",
   "execution_count": 44,
   "id": "cb1665c1",
   "metadata": {},
   "outputs": [
    {
     "data": {
      "text/plain": [
       "(1448, 22)"
      ]
     },
     "execution_count": 44,
     "metadata": {},
     "output_type": "execute_result"
    }
   ],
   "source": [
    "df.shape"
   ]
  },
  {
   "cell_type": "markdown",
   "id": "a39fb730",
   "metadata": {},
   "source": [
    "# Checking inconsistent entries"
   ]
  },
  {
   "cell_type": "code",
   "execution_count": 45,
   "id": "ed499c2e",
   "metadata": {},
   "outputs": [
    {
     "data": {
      "text/plain": [
       "Index(['Age', 'Attrition', 'BusinessTravel', 'Department', 'DistanceFromHome',\n",
       "       'EnvironmentSatisfaction', 'Gender', 'JobLevel', 'JobRole',\n",
       "       'JobSatisfaction', 'MonthlyIncome', 'NumCompaniesWorked', 'OverTime',\n",
       "       'PercentSalaryHike', 'RelationshipSatisfaction', 'TotalWorkingYears',\n",
       "       'TrainingTimesLastYear', 'WorkLifeBalance', 'YearsAtCompany',\n",
       "       'YearsInCurrentRole', 'YearsSinceLastPromotion',\n",
       "       'YearsWithCurrManager'],\n",
       "      dtype='object')"
      ]
     },
     "execution_count": 45,
     "metadata": {},
     "output_type": "execute_result"
    }
   ],
   "source": [
    "df.columns"
   ]
  },
  {
   "cell_type": "code",
   "execution_count": 46,
   "id": "ed3aaaef",
   "metadata": {},
   "outputs": [
    {
     "name": "stdout",
     "output_type": "stream",
     "text": [
      "BusinessTravel: 3 unique values\n",
      "BusinessTravel\n",
      "Travel_Rarely        1024\n",
      "Travel_Frequently     277\n",
      "Non-Travel            147\n",
      "Name: count, dtype: int64\n",
      "----------------------------------------\n",
      "Department: 3 unique values\n",
      "Department\n",
      "Research & Development    946\n",
      "Sales                     439\n",
      "Human Resources            63\n",
      "Name: count, dtype: int64\n",
      "----------------------------------------\n",
      "Gender: 2 unique values\n",
      "Gender\n",
      "Male      870\n",
      "Female    578\n",
      "Name: count, dtype: int64\n",
      "----------------------------------------\n",
      "JobRole: 9 unique values\n",
      "JobRole\n",
      "Sales Executive              319\n",
      "Research Scientist           286\n",
      "Laboratory Technician        253\n",
      "Manufacturing Director       145\n",
      "Healthcare Representative    128\n",
      "Manager                      102\n",
      "Sales Representative          83\n",
      "Research Director             80\n",
      "Human Resources               52\n",
      "Name: count, dtype: int64\n",
      "----------------------------------------\n"
     ]
    }
   ],
   "source": [
    "for i in df.columns:\n",
    "    if df[i].dtype=='object'or df[i].dtype.name=='category':\n",
    "        print(f\"{i}: {df[i].nunique()} unique values\")\n",
    "        print(df[i].value_counts())\n",
    "        print(\"-\"*40)"
   ]
  },
  {
   "cell_type": "markdown",
   "id": "db06c36b",
   "metadata": {},
   "source": [
    "# Saving the data into sql"
   ]
  },
  {
   "cell_type": "code",
   "execution_count": 47,
   "id": "d6570e64",
   "metadata": {},
   "outputs": [
    {
     "data": {
      "text/plain": [
       "1448"
      ]
     },
     "execution_count": 47,
     "metadata": {},
     "output_type": "execute_result"
    }
   ],
   "source": [
    "from sqlalchemy import create_engine\n",
    "# MySQL connection credentials\n",
    "username = \"root\"\n",
    "password = \"root123\"\n",
    "host = \"localhost\"\n",
    "port = 3306\n",
    "database = \"hr(attrition)\"  # your database name\n",
    "\n",
    "# Correct SQLAlchemy engine (no backticks in URL)\n",
    "engine = create_engine(f\"mysql+pymysql://{username}:{password}@{host}:{port}/{database}\")\n",
    "\n",
    "# Insert data into MySQL table\n",
    "df.to_sql('hr_main', con=engine, if_exists='replace', method='multi', index=False,chunksize=1000 )\n"
   ]
  },
  {
   "cell_type": "code",
   "execution_count": 48,
   "id": "957b685d",
   "metadata": {},
   "outputs": [
    {
     "data": {
      "text/plain": [
       "(1448, 22)"
      ]
     },
     "execution_count": 48,
     "metadata": {},
     "output_type": "execute_result"
    }
   ],
   "source": [
    "df.shape"
   ]
  },
  {
   "cell_type": "code",
   "execution_count": null,
   "id": "de7d7758",
   "metadata": {},
   "outputs": [],
   "source": []
  }
 ],
 "metadata": {
  "kernelspec": {
   "display_name": "Python 3",
   "language": "python",
   "name": "python3"
  },
  "language_info": {
   "codemirror_mode": {
    "name": "ipython",
    "version": 3
   },
   "file_extension": ".py",
   "mimetype": "text/x-python",
   "name": "python",
   "nbconvert_exporter": "python",
   "pygments_lexer": "ipython3",
   "version": "3.13.3"
  }
 },
 "nbformat": 4,
 "nbformat_minor": 5
}
